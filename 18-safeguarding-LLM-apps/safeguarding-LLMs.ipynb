{
 "cells": [
  {
   "cell_type": "markdown",
   "id": "60e187df-03fa-4ad3-aefc-7301325f0431",
   "metadata": {},
   "source": [
    "### Detect LLM Attacks:\n",
    "\n",
    "https://colab.research.google.com/drive/1u2HsTKeCAnAzLM59CzTWMidGsgn6wbAA?usp=sharing"
   ]
  }
 ],
 "metadata": {
  "kernelspec": {
   "display_name": "Python 3 (ipykernel)",
   "language": "python",
   "name": "python3"
  },
  "language_info": {
   "codemirror_mode": {
    "name": "ipython",
    "version": 3
   },
   "file_extension": ".py",
   "mimetype": "text/x-python",
   "name": "python",
   "nbconvert_exporter": "python",
   "pygments_lexer": "ipython3",
   "version": "3.8.10"
  }
 },
 "nbformat": 4,
 "nbformat_minor": 5
}
