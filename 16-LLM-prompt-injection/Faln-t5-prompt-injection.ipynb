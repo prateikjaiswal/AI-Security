{
 "cells": [
  {
   "cell_type": "markdown",
   "id": "dbfa40b6-43ab-4b62-b6c2-d6f04d20f99b",
   "metadata": {},
   "source": [
    "### Prompt Injection Flan-t5: \n",
    "https://colab.research.google.com/drive/1F3ZtfrNFi9CH3DjlBDgwBTLTZaSnR_uT?usp=sharing\n"
   ]
  }
 ],
 "metadata": {
  "kernelspec": {
   "display_name": "Python 3 (ipykernel)",
   "language": "python",
   "name": "python3"
  },
  "language_info": {
   "codemirror_mode": {
    "name": "ipython",
    "version": 3
   },
   "file_extension": ".py",
   "mimetype": "text/x-python",
   "name": "python",
   "nbconvert_exporter": "python",
   "pygments_lexer": "ipython3",
   "version": "3.8.10"
  }
 },
 "nbformat": 4,
 "nbformat_minor": 5
}
