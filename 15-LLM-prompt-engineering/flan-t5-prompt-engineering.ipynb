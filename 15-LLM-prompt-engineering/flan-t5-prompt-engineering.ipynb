{
 "cells": [
  {
   "cell_type": "markdown",
   "id": "9af0b846-ae02-4758-adef-b39a571089d9",
   "metadata": {},
   "source": [
    "#### Flan-T5 Prompt Engineering:\n",
    "https://colab.research.google.com/drive/1y41po44UcgX9ZUhRpoLndQCXgER-5Atz?usp=sharing\n"
   ]
  }
 ],
 "metadata": {
  "kernelspec": {
   "display_name": "Python 3 (ipykernel)",
   "language": "python",
   "name": "python3"
  },
  "language_info": {
   "codemirror_mode": {
    "name": "ipython",
    "version": 3
   },
   "file_extension": ".py",
   "mimetype": "text/x-python",
   "name": "python",
   "nbconvert_exporter": "python",
   "pygments_lexer": "ipython3",
   "version": "3.8.10"
  }
 },
 "nbformat": 4,
 "nbformat_minor": 5
}
