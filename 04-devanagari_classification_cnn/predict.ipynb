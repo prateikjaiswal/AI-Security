{
 "cells": [
  {
   "cell_type": "code",
   "execution_count": 1,
   "id": "73d223cc-161f-4f4d-85ce-f4397e6a2c6f",
   "metadata": {},
   "outputs": [
    {
     "name": "stderr",
     "output_type": "stream",
     "text": [
      "2025-02-22 12:08:57.820509: I tensorflow/tsl/cuda/cudart_stub.cc:28] Could not find cuda drivers on your machine, GPU will not be used.\n",
      "2025-02-22 12:08:57.869221: I tensorflow/tsl/cuda/cudart_stub.cc:28] Could not find cuda drivers on your machine, GPU will not be used.\n",
      "2025-02-22 12:08:57.870672: I tensorflow/core/platform/cpu_feature_guard.cc:182] This TensorFlow binary is optimized to use available CPU instructions in performance-critical operations.\n",
      "To enable the following instructions: AVX2 FMA, in other operations, rebuild TensorFlow with the appropriate compiler flags.\n",
      "2025-02-22 12:08:58.662096: W tensorflow/compiler/tf2tensorrt/utils/py_utils.cc:38] TF-TRT Warning: Could not find TensorRT\n"
     ]
    }
   ],
   "source": [
    "from keras.models import load_model\n",
    "import pandas as pd\n",
    "import numpy as np\n",
    "import matplotlib.pyplot as plt\n",
    "import tensorflow as tf\n",
    "# tf.compat.v1.disable_eager_execution()\n",
    "tf.config.set_visible_devices([], 'GPU')\n"
   ]
  },
  {
   "cell_type": "markdown",
   "id": "4786edd4-3a46-483a-8f00-26105c49a6b3",
   "metadata": {},
   "source": [
    "### Load trained model"
   ]
  },
  {
   "cell_type": "code",
   "execution_count": 5,
   "id": "8fcadf21-f992-48bd-b31b-e4a8bc5605ab",
   "metadata": {},
   "outputs": [],
   "source": [
    "model = load_model('devnagri_model_1.3902e-05.net')\n",
    "labels = [2,3,5,7]"
   ]
  },
  {
   "cell_type": "markdown",
   "id": "d33226f1-2ec8-4969-9212-5b41d9d5a93e",
   "metadata": {},
   "source": [
    "### Select a sample from dataset"
   ]
  },
  {
   "cell_type": "code",
   "execution_count": 9,
   "id": "ff38ba26-20a0-416d-b84c-d6cde150b0ea",
   "metadata": {},
   "outputs": [],
   "source": [
    "sample_index = 100\n",
    "dv = pd.read_csv('devanagari_prime_digits.csv', header=None).values\n",
    "\n",
    "# predict\n",
    "sample = dv[sample_index,:-1].reshape(1,32,32,1)"
   ]
  },
  {
   "cell_type": "markdown",
   "id": "0024ac2d-036f-4da6-b447-a54c50a1fafc",
   "metadata": {},
   "source": [
    "### Generate prediction from model"
   ]
  },
  {
   "cell_type": "code",
   "execution_count": 7,
   "id": "d5d18bf9-3000-4e19-be25-d59ca0727ae8",
   "metadata": {},
   "outputs": [
    {
     "name": "stdout",
     "output_type": "stream",
     "text": [
      "1/1 [==============================] - 0s 50ms/step\n",
      "\n",
      "[[9.8558283e-01 1.2756195e-02 1.2575866e-03 4.0339696e-04]]\n",
      "Prediction:  2\n"
     ]
    },
    {
     "data": {
      "image/png": "[encoded data removed]",
      "text/plain": [
       "<Figure size 640x480 with 1 Axes>"
      ]
     },
     "metadata": {},
     "output_type": "display_data"
    }
   ],
   "source": [
    "pred = model.predict(sample)\n",
    "class_index = np.argmax(pred)\n",
    "print()\n",
    "print(pred)\n",
    "print('Prediction: ', labels[class_index])\n",
    "\n",
    "# plot predicted sample\n",
    "plt.imshow(sample.reshape(32,32))\n",
    "plt.show()"
   ]
  }
 ],
 "metadata": {
  "kernelspec": {
   "display_name": "Python 3 (ipykernel)",
   "language": "python",
   "name": "python3"
  },
  "language_info": {
   "codemirror_mode": {
    "name": "ipython",
    "version": 3
   },
   "file_extension": ".py",
   "mimetype": "text/x-python",
   "name": "python",
   "nbconvert_exporter": "python",
   "pygments_lexer": "ipython3",
   "version": "3.8.20"
  }
 },
 "nbformat": 4,
 "nbformat_minor": 5
}
