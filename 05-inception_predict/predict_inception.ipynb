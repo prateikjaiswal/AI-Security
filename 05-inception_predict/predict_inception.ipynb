{
 "cells": [
  {
   "cell_type": "code",
   "execution_count": 15,
   "id": "b1a49ab1-d6eb-43fb-b9d5-d4e27c0ccfa3",
   "metadata": {},
   "outputs": [],
   "source": [
    "import numpy as np\n",
    "import tensorflow as tf\n",
    "tf.compat.v1.disable_eager_execution()\n",
    "tf.config.set_visible_devices([], 'GPU')\n",
    "from keras.preprocessing import image\n",
    "from keras.applications import inception_v3\n",
    "from keras.applications.inception_v3 import preprocess_input, decode_predictions\n",
    "from keras import backend as K\n",
    "from PIL import Image\n",
    "import os\n",
    "import sys\n",
    "from IPython.display import Image, display\n",
    "import warnings\n",
    "warnings.filterwarnings('ignore')"
   ]
  },
  {
   "cell_type": "markdown",
   "id": "f19967da-cb28-4e83-9008-403d21ace90b",
   "metadata": {},
   "source": [
    "### Load inceptionv3 model"
   ]
  },
  {
   "cell_type": "code",
   "execution_count": 16,
   "id": "d669bd88-bbb3-4803-972f-d7661111efa5",
   "metadata": {},
   "outputs": [
    {
     "name": "stderr",
     "output_type": "stream",
     "text": [
      "2025-02-22 12:18:37.323733: W tensorflow/c/c_api.cc:304] Operation '{name:'batch_normalization_291/moving_mean/Assign' id:21957 op device:{requested: '', assigned: ''} def:{{{node batch_normalization_291/moving_mean/Assign}} = AssignVariableOp[_has_manual_control_dependencies=true, dtype=DT_FLOAT, validate_shape=false](batch_normalization_291/moving_mean, batch_normalization_291/moving_mean/Initializer/zeros)}}' was changed by setting attribute after it was run by a session. This mutation will have no effect, and will trigger an error in the future. Either don't modify nodes after running them or create a new session.\n"
     ]
    }
   ],
   "source": [
    "model = inception_v3.InceptionV3()\n",
    "# model.summary()"
   ]
  },
  {
   "cell_type": "code",
   "execution_count": 17,
   "id": "d9533ddc-0d2f-48b5-b216-a45a455612c2",
   "metadata": {},
   "outputs": [],
   "source": [
    "def predict_img(img_path):\n",
    "    img = image.load_img(img_path, target_size=(299, 299))\n",
    "    original_image = image.img_to_array(img)\n",
    "    original_image /= 255.\n",
    "    original_image -= 0.5\n",
    "    original_image *= 2.\n",
    "    x = np.expand_dims(original_image, axis=0)\n",
    "    pred = model.predict(x)\n",
    "    print('\\033[92m Model Predictions: '+str(decode_predictions(pred, top=3))+'\\033[0m')\n"
   ]
  },
  {
   "cell_type": "markdown",
   "id": "6d5f486f-59e2-4d6a-8e10-bea6d271c5b6",
   "metadata": {},
   "source": [
    "### Prediction using inceptionv3 model"
   ]
  },
  {
   "cell_type": "code",
   "execution_count": 18,
   "id": "7183f01e-3972-4221-acbd-c0ddb908573b",
   "metadata": {},
   "outputs": [
    {
     "data": {
      "image/jpeg": "[encoded data removed]",
      "text/plain": [
       "<IPython.core.display.Image object>"
      ]
     },
     "metadata": {},
     "output_type": "display_data"
    },
    {
     "name": "stderr",
     "output_type": "stream",
     "text": [
      "2025-02-22 12:18:41.194774: W tensorflow/c/c_api.cc:304] Operation '{name:'predictions_3/Softmax' id:27016 op device:{requested: '', assigned: ''} def:{{{node predictions_3/Softmax}} = Softmax[T=DT_FLOAT, _has_manual_control_dependencies=true](predictions_3/BiasAdd)}}' was changed by setting attribute after it was run by a session. This mutation will have no effect, and will trigger an error in the future. Either don't modify nodes after running them or create a new session.\n"
     ]
    },
    {
     "name": "stdout",
     "output_type": "stream",
     "text": [
      "\u001b[92m Model Predictions: [[('n02504013', 'Indian_elephant', 0.93879485), ('n01871265', 'tusker', 0.019437166), ('n01704323', 'triceratops', 0.010561407)]]\u001b[0m\n"
     ]
    }
   ],
   "source": [
    "#replace the image path\n",
    "img_path = './elephant.jpg'\n",
    "\n",
    "# Display image\n",
    "display(Image(filename=img_path)) \n",
    "\n",
    "# Predict class\n",
    "predict_img(img_path)"
   ]
  }
 ],
 "metadata": {
  "kernelspec": {
   "display_name": "Python 3 (ipykernel)",
   "language": "python",
   "name": "python3"
  },
  "language_info": {
   "codemirror_mode": {
    "name": "ipython",
    "version": 3
   },
   "file_extension": ".py",
   "mimetype": "text/x-python",
   "name": "python",
   "nbconvert_exporter": "python",
   "pygments_lexer": "ipython3",
   "version": "3.8.20"
  }
 },
 "nbformat": 4,
 "nbformat_minor": 5
}
