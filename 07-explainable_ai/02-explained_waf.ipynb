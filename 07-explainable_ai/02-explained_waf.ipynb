{
 "cells": [
  {
   "cell_type": "markdown",
   "id": "30b67eae-d3db-4a56-a867-717ef2e1019c",
   "metadata": {},
   "source": [
    "### Load the WAF model"
   ]
  },
  {
   "cell_type": "code",
   "execution_count": 1,
   "id": "25c62a13-615f-4d61-97e3-5f1d9f516927",
   "metadata": {},
   "outputs": [],
   "source": [
    "import pickle\n",
    "\n",
    "class_names = ['Good query','Bad query']\n",
    "lgs = pickle.load(open('./waf_model/pickled_lgs', 'rb'))\n",
    "vectorizer = pickle.load(open('./waf_model/pickled_vectorizer','rb'))\n",
    "\n"
   ]
  },
  {
   "cell_type": "markdown",
   "id": "12fbf56e-da91-4244-804a-81603d2a2691",
   "metadata": {},
   "source": [
    "### Load LimeTextExplainer"
   ]
  },
  {
   "cell_type": "code",
   "execution_count": 2,
   "id": "be8f30d7-22f9-4aec-8216-5e6c6295669c",
   "metadata": {},
   "outputs": [],
   "source": [
    "\n",
    "# Explaining predictions using lime\n",
    "# Lime explainers assume that classifiers act on raw text, but sklearn classifiers act on vectorized representation of texts. \n",
    "# For this purpose, we use sklearn's pipeline, and implements predict_proba on raw_text lists.\n",
    "from lime import lime_text\n",
    "from sklearn.pipeline import make_pipeline\n",
    "prediction_pipeline = make_pipeline(vectorizer, lgs)\n",
    "\n",
    "\n",
    "\n",
    "# Now we create an explainer object. We pass the class_names as an argument for prettier display.\n",
    "from lime.lime_text import LimeTextExplainer\n",
    "explainer = LimeTextExplainer(class_names=class_names)\n"
   ]
  },
  {
   "cell_type": "markdown",
   "id": "edb7d5c2-3e04-4beb-9da8-87597a419569",
   "metadata": {},
   "source": [
    "### Generate Explanation for selected query"
   ]
  },
  {
   "cell_type": "code",
   "execution_count": 8,
   "id": "db1d6f40-60a0-415f-a13c-8ec85dca0372",
   "metadata": {},
   "outputs": [
    {
     "name": "stdout",
     "output_type": "stream",
     "text": [
      "Probability = 0.9999999999749516\n",
      "script: 0.0000\n",
      "1: 0.0000\n",
      "alert: 0.0000\n",
      "\n",
      "LIME explanation saved as HTML file at: ./explanation/waf_explanation.html\n"
     ]
    },
    {
     "data": {
      "image/png": "[encoded data removed]",
      "text/plain": [
       "<Figure size 640x480 with 1 Axes>"
      ]
     },
     "metadata": {},
     "output_type": "display_data"
    }
   ],
   "source": [
    "# We then generate an explanation\n",
    "query = '<script>alert(1)</script>'\n",
    "# query = '<script>alert(1)/*javascript/nets.png/javascript/nets.png/javascript/nets.png/javascript/nets.png/javascript/nets.png*/</script>'\n",
    "# query = '/<script>alert(1)/*index.html/index.html/index.html/index.html/index.html/index.html/index.html/index.html/index.html/index.html/index.html/index.html/index.html/index.html/index.html/index.html/index.html/index.html/index.html/index.html/index.html/*/</script>/'\n",
    "exp = explainer.explain_instance(query, prediction_pipeline.predict_proba, num_features=6)\n",
    "print('Probability =', prediction_pipeline.predict_proba([query])[0,1])\n",
    "\n",
    "\n",
    "# The explanation is presented below as a list of weighted features. \n",
    "for feature, weight in exp.as_list():\n",
    "    print(f\"{feature}: {weight:.4f}\")\n",
    "# we can save the fully contained html page to a file:\n",
    "output_path = './explanation/waf_explanation.html'\n",
    "exp.save_to_file(output_path)\n",
    "print(f\"\\nLIME explanation saved as HTML file at: {output_path}\")\n",
    "\n",
    "# Visualize the explanation\n",
    "exp.as_pyplot_figure().show()"
   ]
  },
  {
   "cell_type": "markdown",
   "id": "3a1a1364-0b50-4268-9911-3cda15a08aa8",
   "metadata": {},
   "source": [
    "### More results at explanation/waf_explanation.html"
   ]
  }
 ],
 "metadata": {
  "kernelspec": {
   "display_name": "Python 3 (ipykernel)",
   "language": "python",
   "name": "python3"
  },
  "language_info": {
   "codemirror_mode": {
    "name": "ipython",
    "version": 3
   },
   "file_extension": ".py",
   "mimetype": "text/x-python",
   "name": "python",
   "nbconvert_exporter": "python",
   "pygments_lexer": "ipython3",
   "version": "3.8.20"
  }
 },
 "nbformat": 4,
 "nbformat_minor": 5
}
