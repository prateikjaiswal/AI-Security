{
 "cells": [
  {
   "cell_type": "markdown",
   "id": "8a6bccb5-51fb-4a0c-be85-962692f866fe",
   "metadata": {},
   "source": [
    "### Train the spam classifier model"
   ]
  },
  {
   "cell_type": "code",
   "execution_count": 1,
   "id": "6c432055-9b86-4a60-9ae6-880dddcccca3",
   "metadata": {},
   "outputs": [
    {
     "name": "stdout",
     "output_type": "stream",
     "text": [
      "Classifier accuracy: 0.97\n"
     ]
    }
   ],
   "source": [
    "import pandas as pd\n",
    "import numpy as np\n",
    "from sklearn.model_selection import train_test_split\n",
    "from sklearn.feature_extraction.text import TfidfVectorizer\n",
    "from sklearn.naive_bayes import MultinomialNB\n",
    "from sklearn.metrics import accuracy_score\n",
    "from lime.lime_text import LimeTextExplainer\n",
    "\n",
    "# Download and load the spam/ham dataset\n",
    "# url = \"https://archive.ics.uci.edu/ml/machine-learning-databases/00228/smsspamcollection.zip\"\n",
    "df = pd.read_csv('SMSSpamCollection', sep='\\t', names=['label', 'message'])\n",
    "\n",
    "# Preprocess the data\n",
    "X = df['message']\n",
    "y = df['label'].map({'ham': 0, 'spam': 1})\n",
    "\n",
    "# Split the data\n",
    "X_train, X_test, y_train, y_test = train_test_split(X, y, test_size=0.2, random_state=42)\n",
    "\n",
    "# Vectorize the text data\n",
    "vectorizer = TfidfVectorizer()\n",
    "X_train_vectorized = vectorizer.fit_transform(X_train)\n",
    "X_test_vectorized = vectorizer.transform(X_test)\n",
    "\n",
    "# Train a classifier\n",
    "classifier = MultinomialNB()\n",
    "classifier.fit(X_train_vectorized, y_train)\n",
    "\n",
    "# Evaluate the classifier\n",
    "y_pred = classifier.predict(X_test_vectorized)\n",
    "accuracy = accuracy_score(y_test, y_pred)\n",
    "print(f\"Classifier accuracy: {accuracy:.2f}\")"
   ]
  },
  {
   "cell_type": "markdown",
   "id": "c525f085-93f8-474c-ab35-594b79b2bd5a",
   "metadata": {},
   "source": [
    "### Load LIME Text Explainer"
   ]
  },
  {
   "cell_type": "code",
   "execution_count": 11,
   "id": "35a1821e-2808-45a6-9439-539ec1a34b78",
   "metadata": {},
   "outputs": [],
   "source": [
    "# Create a LIME explainer\n",
    "explainer = LimeTextExplainer(class_names=['ham', 'spam'])\n",
    "\n",
    "# Function to predict probabilities\n",
    "def predict_proba(texts):\n",
    "    return classifier.predict_proba(vectorizer.transform(texts))\n"
   ]
  },
  {
   "cell_type": "markdown",
   "id": "379d0705-1598-49d7-b436-41d01d2e09bd",
   "metadata": {},
   "source": [
    "### Select text you want to generate the explanation for"
   ]
  },
  {
   "cell_type": "code",
   "execution_count": 13,
   "id": "30245701-b8c2-41e7-a076-398520578149",
   "metadata": {},
   "outputs": [
    {
     "name": "stdout",
     "output_type": "stream",
     "text": [
      "\n",
      "Explanation for instance: You have been awarded a free free free 5000$ coupon for a cruise!\n",
      "\n",
      "Top features contributing to the classification:\n",
      "awarded: 0.2261\n",
      "5000: 0.1921\n",
      "free: 0.1222\n",
      "You: -0.0618\n",
      "have: -0.0551\n",
      "been: -0.0381\n",
      "for: -0.0364\n",
      "cruise: 0.0075\n",
      "coupon: 0.0007\n",
      "a: 0.0001\n",
      "\n",
      "LIME explanation saved as HTML file at: ./explanation/text_explanation.html\n"
     ]
    },
    {
     "data": {
      "image/png": "[encoded data removed]",
      "text/plain": [
       "<Figure size 640x480 with 1 Axes>"
      ]
     },
     "metadata": {},
     "output_type": "display_data"
    }
   ],
   "source": [
    "text_instance = \"You have been awarded a free free free 5000$ coupon for a cruise!\"\n",
    "\n",
    "# Generate the explanation\n",
    "explanation = explainer.explain_instance(text_instance, predict_proba, num_features=10)\n",
    "\n",
    "# Print the explanation\n",
    "print(f\"\\nExplanation for instance: {text_instance}\")\n",
    "print(\"\\nTop features contributing to the classification:\")\n",
    "for feature, weight in explanation.as_list():\n",
    "    print(f\"{feature}: {weight:.4f}\")\n",
    "# Save the LIME explanation as an HTML file\n",
    "html_explanation = explanation.as_html()\n",
    "output_path = \"./explanation/text_explanation.html\"\n",
    "\n",
    "with open(output_path, \"w\", encoding=\"utf-8\") as f:\n",
    "    f.write(html_explanation)\n",
    "\n",
    "print(f\"\\nLIME explanation saved as HTML file at: {output_path}\")\n",
    "\n",
    "# Visualize the explanation\n",
    "explanation.as_pyplot_figure().show()"
   ]
  },
  {
   "cell_type": "markdown",
   "id": "e69605fe-3f96-4f34-b20a-e9823d1db472",
   "metadata": {},
   "source": [
    "### check more results on explanation/text_explanation.html"
   ]
  },
  {
   "cell_type": "code",
   "execution_count": null,
   "id": "8c90991f-4975-480c-98e8-b2a054cd47e9",
   "metadata": {},
   "outputs": [],
   "source": []
  }
 ],
 "metadata": {
  "kernelspec": {
   "display_name": "Python 3 (ipykernel)",
   "language": "python",
   "name": "python3"
  },
  "language_info": {
   "codemirror_mode": {
    "name": "ipython",
    "version": 3
   },
   "file_extension": ".py",
   "mimetype": "text/x-python",
   "name": "python",
   "nbconvert_exporter": "python",
   "pygments_lexer": "ipython3",
   "version": "3.8.20"
  }
 },
 "nbformat": 4,
 "nbformat_minor": 5
}
