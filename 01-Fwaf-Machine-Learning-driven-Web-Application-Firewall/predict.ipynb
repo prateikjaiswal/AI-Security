{
 "cells": [
  {
   "cell_type": "code",
   "execution_count": null,
   "id": "a9cbcd88-6f39-4fc2-98d3-0531485343cb",
   "metadata": {},
   "outputs": [],
   "source": [
    "import pickle\n",
    "import numpy as np\n",
    "\n",
    "labels = ['Good query','Bad query']\n",
    "query = '/<script>alert(\"The bad query\")</script>'\n",
    "# query = '/examples/good/query'\n",
    "\n",
    "# load model and tfidf vectorizer\n",
    "lgs = pickle.load(open('pickled_lgs', 'rb'))\n",
    "vectorizer = pickle.load(open('pickled_vectorizer','rb'))\n",
    "\n",
    "\n",
    "# vectorize\n",
    "query_vectorized = vectorizer.transform([query])\n",
    "\n",
    "# predict\n",
    "proba = lgs.predict_proba(query_vectorized)\n",
    "\n",
    "print('Predicted probabilities: ',proba)\n",
    "print('Predicted class: ',labels[np.argmax(proba)])\n",
    "print()"
   ]
  }
 ],
 "metadata": {
  "kernelspec": {
   "display_name": "Python 3 (ipykernel)",
   "language": "python",
   "name": "python3"
  },
  "language_info": {
   "codemirror_mode": {
    "name": "ipython",
    "version": 3
   },
   "file_extension": ".py",
   "mimetype": "text/x-python",
   "name": "python",
   "nbconvert_exporter": "python",
   "pygments_lexer": "ipython3",
   "version": "3.8.20"
  }
 },
 "nbformat": 4,
 "nbformat_minor": 5
}
