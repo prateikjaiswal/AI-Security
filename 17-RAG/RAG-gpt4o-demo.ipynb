{
 "cells": [
  {
   "cell_type": "markdown",
   "id": "355e8bad-07b4-40ce-a4a4-4eb964956997",
   "metadata": {},
   "source": [
    "### RAG openai demo\n",
    "https://colab.research.google.com/drive/1z__i_Pn9dbwT65qzwdtwTkk_6pSzoa_J?usp=sharing"
   ]
  }
 ],
 "metadata": {
  "kernelspec": {
   "display_name": "Python 3 (ipykernel)",
   "language": "python",
   "name": "python3"
  },
  "language_info": {
   "codemirror_mode": {
    "name": "ipython",
    "version": 3
   },
   "file_extension": ".py",
   "mimetype": "text/x-python",
   "name": "python",
   "nbconvert_exporter": "python",
   "pygments_lexer": "ipython3",
   "version": "3.8.10"
  }
 },
 "nbformat": 4,
 "nbformat_minor": 5
}
