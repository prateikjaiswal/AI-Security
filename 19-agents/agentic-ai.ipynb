{
 "cells": [
  {
   "cell_type": "markdown",
   "id": "6b01507b-9483-4204-9e6e-d67ea05fd900",
   "metadata": {},
   "source": [
    "### Agentic AI with AutoGen\n",
    "\n",
    "https://colab.research.google.com/drive/1Z1gV_3IOK_jykf7on7TcD8ncVe-NnOkm?usp=sharing"
   ]
  }
 ],
 "metadata": {
  "kernelspec": {
   "display_name": "Python 3 (ipykernel)",
   "language": "python",
   "name": "python3"
  },
  "language_info": {
   "codemirror_mode": {
    "name": "ipython",
    "version": 3
   },
   "file_extension": ".py",
   "mimetype": "text/x-python",
   "name": "python",
   "nbconvert_exporter": "python",
   "pygments_lexer": "ipython3",
   "version": "3.8.20"
  }
 },
 "nbformat": 4,
 "nbformat_minor": 5
}
