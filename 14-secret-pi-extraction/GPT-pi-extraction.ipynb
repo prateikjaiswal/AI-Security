{
 "cells": [
  {
   "cell_type": "markdown",
   "id": "0339fbd9-b177-4046-9884-2f10d49f670c",
   "metadata": {},
   "source": [
    "#### GPT-2 Input Data extraction:\n",
    "https://colab.research.google.com/drive/19y1GZIW6HTGPd6-LXC_Yv9ytRhD5rhxb?usp=sharing\n"
   ]
  }
 ],
 "metadata": {
  "kernelspec": {
   "display_name": "Python 3 (ipykernel)",
   "language": "python",
   "name": "python3"
  },
  "language_info": {
   "codemirror_mode": {
    "name": "ipython",
    "version": 3
   },
   "file_extension": ".py",
   "mimetype": "text/x-python",
   "name": "python",
   "nbconvert_exporter": "python",
   "pygments_lexer": "ipython3",
   "version": "3.8.10"
  }
 },
 "nbformat": 4,
 "nbformat_minor": 5
}
