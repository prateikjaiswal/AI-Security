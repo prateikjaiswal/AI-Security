{
 "cells": [
  {
   "cell_type": "markdown",
   "id": "a3a589b0-7d03-4de0-bf76-c10562a67796",
   "metadata": {},
   "source": [
    "### to be run on colab\n",
    "\n",
    "https://colab.research.google.com/drive/1ATcsPUkWLOoa1il5zajcEO2E1E6Zk7P_?usp=sharing\n"
   ]
  }
 ],
 "metadata": {
  "kernelspec": {
   "display_name": "Python 3 (ipykernel)",
   "language": "python",
   "name": "python3"
  },
  "language_info": {
   "codemirror_mode": {
    "name": "ipython",
    "version": 3
   },
   "file_extension": ".py",
   "mimetype": "text/x-python",
   "name": "python",
   "nbconvert_exporter": "python",
   "pygments_lexer": "ipython3",
   "version": "3.8.10"
  }
 },
 "nbformat": 4,
 "nbformat_minor": 5
}
