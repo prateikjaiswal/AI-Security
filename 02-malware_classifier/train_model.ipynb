{
 "cells": [
  {
   "cell_type": "code",
   "execution_count": null,
   "id": "5d8a44cf-87a6-486e-aa99-e49e60c6e49c",
   "metadata": {},
   "outputs": [],
   "source": [
    "# dataset ref: https://github.com/Te-k/malware-classification\n",
    "# dataset is generated using pefile"
   ]
  },
  {
   "cell_type": "code",
   "execution_count": 20,
   "id": "fa3a1233-c8ff-456c-aee4-7404ed9022b5",
   "metadata": {},
   "outputs": [],
   "source": [
    "import pandas as pd\n",
    "import numpy as np\n",
    "from pandas import read_csv\n",
    "import matplotlib.pyplot as plt\n",
    "from sklearn.model_selection import train_test_split\n",
    "from sklearn.metrics import confusion_matrix\n",
    "\n",
    "from sklearn.linear_model import LinearRegression,LogisticRegression\n",
    "from sklearn.ensemble import RandomForestClassifier\n",
    "from sklearn.tree import DecisionTreeClassifier\n",
    "from sklearn.svm import SVC\n",
    "from sklearn.preprocessing import MinMaxScaler\n",
    "np.random.seed(7)"
   ]
  },
  {
   "cell_type": "markdown",
   "id": "437c9e09-5258-43e8-9649-b63a5a267f03",
   "metadata": {},
   "source": [
    "### Load data"
   ]
  },
  {
   "cell_type": "code",
   "execution_count": 6,
   "id": "3ba78858-8292-4d87-bf04-72032ff1ebc7",
   "metadata": {},
   "outputs": [],
   "source": [
    "dataframe = read_csv('data.csv', sep='|')"
   ]
  },
  {
   "cell_type": "markdown",
   "id": "91b1f069-39a5-4cb9-9366-9bae66bafc6a",
   "metadata": {},
   "source": [
    "### Preprocess data"
   ]
  },
  {
   "cell_type": "code",
   "execution_count": 7,
   "id": "2784ad96-b993-4cfa-9eab-140f5b7565b9",
   "metadata": {},
   "outputs": [],
   "source": [
    "dataX = dataframe.iloc[: , 2:-1]\n",
    "dataY = dataframe.iloc[:,-1]\n",
    "\n",
    "tfr = MinMaxScaler()\n",
    "tfr.fit(dataX)\n",
    "dataX = tfr.transform(dataX)\n"
   ]
  },
  {
   "cell_type": "markdown",
   "id": "3bd72bd6-ebfd-4cda-8b22-9727a86e0f94",
   "metadata": {},
   "source": [
    "### Train Test split"
   ]
  },
  {
   "cell_type": "code",
   "execution_count": 8,
   "id": "6c37dba3-d03f-4721-8bda-91dc9280fce6",
   "metadata": {},
   "outputs": [],
   "source": [
    "# split dataset\n",
    "X_train, X_test, y_train, y_test = train_test_split(dataX, dataY, test_size=0.3, random_state=42)\n"
   ]
  },
  {
   "cell_type": "markdown",
   "id": "3a696f4f-fe42-41dc-b6be-fdc7782879eb",
   "metadata": {},
   "source": [
    "### Train models"
   ]
  },
  {
   "cell_type": "code",
   "execution_count": 18,
   "id": "e76c4031-70fa-4534-b77d-dc6567aa4969",
   "metadata": {},
   "outputs": [
    {
     "name": "stderr",
     "output_type": "stream",
     "text": [
      "/home/ubuntu/setup/ai-sec-env/lib/python3.8/site-packages/sklearn/linear_model/_logistic.py:460: ConvergenceWarning: lbfgs failed to converge (status=1):\n",
      "STOP: TOTAL NO. of ITERATIONS REACHED LIMIT.\n",
      "\n",
      "Increase the number of iterations (max_iter) or scale the data as shown in:\n",
      "    https://scikit-learn.org/stable/modules/preprocessing.html\n",
      "Please also refer to the documentation for alternative solver options:\n",
      "    https://scikit-learn.org/stable/modules/linear_model.html#logistic-regression\n",
      "  n_iter_i = _check_optimize_result(\n"
     ]
    }
   ],
   "source": [
    "\n",
    "# classifier\n",
    "clf = LogisticRegression()\n",
    "# clf = DecisionTreeClassifier(criterion='gini')\n",
    "# clf = RandomForestClassifier(n_estimators=100, criterion='gini')\n",
    "clf.fit(X_train,y_train)\n",
    "\n",
    "train_pred = clf.predict(X_train)\n",
    "test_pred = clf.predict(X_test)\n"
   ]
  },
  {
   "cell_type": "markdown",
   "id": "388f700b-cd5c-427d-84fd-a0533a76fc9f",
   "metadata": {},
   "source": [
    "### Evaluate models"
   ]
  },
  {
   "cell_type": "code",
   "execution_count": 19,
   "id": "40c717c3-d35a-4f86-8076-6e090fa4a586",
   "metadata": {},
   "outputs": [
    {
     "name": "stdout",
     "output_type": "stream",
     "text": [
      "####################\n",
      "LogisticRegression\n",
      "####################\n",
      "confusion matrix on training set\n",
      "[[66658  1132]\n",
      " [ 1529 27313]]\n",
      "precision:  0.9602039022675338\n",
      "accuracy:  0.9724625382895935\n",
      "Recall:  0.9469870327993898\n",
      "f1: 0.953549670955016\n",
      "####################\n",
      "confusion matrix on testing set\n",
      "[[28452   482]\n",
      " [  625 11856]]\n",
      "precision:  0.9609337007618739\n",
      "acc:  0.9732705541470482\n",
      "recall:  0.9499238843041423\n",
      "f1:  0.9553970748217092\n",
      "####################\n"
     ]
    }
   ],
   "source": [
    "\n",
    "# evaluate on training set\n",
    "print(\"#\"*20)\n",
    "print(type(clf).__name__)\n",
    "print(\"#\"*20)\n",
    "print('confusion matrix on training set')\n",
    "print(confusion_matrix(y_train, train_pred))\n",
    "tn_train, fp_train, fn_train, tp_train = confusion_matrix(y_train, train_pred).ravel()\n",
    "\n",
    "precision_train = tp_train/(tp_train + fp_train)\n",
    "Accuracy_train= (tp_train + tn_train)/(tp_train + tn_train + fn_train + fp_train)\n",
    "Recall_train = tp_train/ (tp_train + fn_train)\n",
    "\n",
    "F1Score_train = 2*(Recall_train* precision_train)/(Recall_train + precision_train)\n",
    "print('precision: ', precision_train)\n",
    "print('accuracy: ', Accuracy_train)\n",
    "print('Recall: ', Recall_train)\n",
    "print('f1:', F1Score_train)\n",
    "print(\"#\"*20)\n",
    "\n",
    "# evaluate on validation set\n",
    "print('confusion matrix on testing set')\n",
    "print(confusion_matrix(y_test, test_pred))\n",
    "tn_test, fp_test, fn_test, tp_test = confusion_matrix(y_test, test_pred).ravel()\n",
    "\n",
    "precision_test = tp_test/(tp_test + fp_test)\n",
    "Accuracy_test= (tp_test + tn_test)/(tp_test + tn_test + fn_test + fp_test)\n",
    "Recall_test = tp_test/ (tp_test + fn_test)\n",
    "\n",
    "F1Score_test = 2*(Recall_test* precision_test)/(Recall_test + precision_test)\n",
    "\n",
    "print('precision: ', precision_test)\n",
    "print('acc: ', Accuracy_test)\n",
    "print('recall: ', Recall_test)\n",
    "print('f1: ', F1Score_test)\n",
    "print(\"#\"*20)"
   ]
  }
 ],
 "metadata": {
  "kernelspec": {
   "display_name": "Python 3 (ipykernel)",
   "language": "python",
   "name": "python3"
  },
  "language_info": {
   "codemirror_mode": {
    "name": "ipython",
    "version": 3
   },
   "file_extension": ".py",
   "mimetype": "text/x-python",
   "name": "python",
   "nbconvert_exporter": "python",
   "pygments_lexer": "ipython3",
   "version": "3.8.20"
  }
 },
 "nbformat": 4,
 "nbformat_minor": 5
}
